{
 "cells": [
  {
   "cell_type": "markdown",
   "metadata": {},
   "source": [
    "# TFRecord Queue runner example - Batch version\n",
    "\n"
   ]
  },
  {
   "cell_type": "code",
   "execution_count": 2,
   "metadata": {},
   "outputs": [
    {
     "name": "stdout",
     "output_type": "stream",
     "text": [
      "start reading\n",
      "value {'inputs': array([[ 0.,  0.,  0., ...,  0.,  0.,  0.],\n",
      "       [ 0.,  0.,  0., ...,  0.,  0.,  0.],\n",
      "       [ 0.,  0.,  0., ...,  0.,  0.,  0.],\n",
      "       ..., \n",
      "       [ 0.,  0.,  0., ...,  0.,  0.,  0.],\n",
      "       [ 0.,  0.,  0., ...,  0.,  0.,  0.],\n",
      "       [ 0.,  0.,  0., ...,  0.,  0.,  0.]], dtype=float32)} [5 0 4 1 9 2 1 3 1 4 5 0 4 1 9 2 1 3 1 4 5 0 4 1 9 2 1 3 1 4 5 0 4 1 9 2 1\n",
      " 3 1 4 5 0 4 1 9 2 1 3 1 4 5 0 4 1 9 2 1 3 1 4 5 0 4 1 9 2 1 3 1 4 5 0 4 1\n",
      " 9 2 1 3 1 4 5 0 4 1 9 2 1 3 1 4 5 0 4 1 9 2 1 3 1 4]\n",
      "100\n"
     ]
    }
   ],
   "source": [
    "import tensorflow as tf\n",
    "\n",
    "tf.logging.set_verbosity(tf.logging.INFO)\n",
    "tf.__version__\n",
    "\n",
    "def read_and_decode(filename_queue):\n",
    "    reader = tf.TFRecordReader()\n",
    "    _, serialized_example = reader.read(filename_queue)\n",
    "\n",
    "    features = tf.parse_single_example(\n",
    "        serialized_example,\n",
    "        features={\n",
    "            'image_raw': tf.FixedLenFeature([], tf.string),\n",
    "            'label': tf.FixedLenFeature([], tf.int64),\n",
    "        })\n",
    "\n",
    "    image = tf.decode_raw(features['image_raw'], tf.uint8)\n",
    "    image.set_shape([784])\n",
    "    image = tf.cast(image, tf.float32) * (1. / 255) #regulazation \n",
    "    label = tf.cast(features['label'], tf.int32)\n",
    "\n",
    "    print 'image shape',image\n",
    "    return image, label\n",
    "\n",
    "def input_fn(filename, batch_size=100):\n",
    "    filename_queue = tf.train.string_input_producer([filename])\n",
    "\n",
    "    image, label = read_and_decode(filename_queue)\n",
    "    images,labels = tf.train.batch(\n",
    "        [image,label],batch_size=batch_size,\n",
    "        capacity= 1000 + 3 * batch_size)\n",
    "    print 'images shape',images\n",
    "\n",
    "    return {'inputs':images},labels\n",
    "\n",
    "sess = tf.Session()\n",
    "sess.run(tf.global_variables_initializer())\n",
    "\n",
    "# construct graph before start queue runner\n",
    "i,l = input_fn('/tmp/data/validation.tfrecords')\n",
    "\n",
    "coord = tf.train.Coordinator()\n",
    "threads = tf.train.start_queue_runners(sess=sess, coord=coord)\n",
    "\n",
    "print 'start reading'\n",
    "v_image,v_label = sess.run([i,l])\n",
    "\n",
    "#print 'value',v_image,v_label\n",
    "#print len(v_label)\n",
    "coord.request_stop()\n",
    "coord.join(threads) \n",
    "\n",
    "\n"
   ]
  },
  {
   "cell_type": "code",
   "execution_count": null,
   "metadata": {
    "collapsed": true
   },
   "outputs": [],
   "source": []
  },
  {
   "cell_type": "code",
   "execution_count": null,
   "metadata": {
    "collapsed": true
   },
   "outputs": [],
   "source": []
  }
 ],
 "metadata": {
  "kernelspec": {
   "display_name": "Python 2",
   "language": "python",
   "name": "python2"
  },
  "language_info": {
   "codemirror_mode": {
    "name": "ipython",
    "version": 2
   },
   "file_extension": ".py",
   "mimetype": "text/x-python",
   "name": "python",
   "nbconvert_exporter": "python",
   "pygments_lexer": "ipython2",
   "version": "2.7.13"
  }
 },
 "nbformat": 4,
 "nbformat_minor": 2
}
