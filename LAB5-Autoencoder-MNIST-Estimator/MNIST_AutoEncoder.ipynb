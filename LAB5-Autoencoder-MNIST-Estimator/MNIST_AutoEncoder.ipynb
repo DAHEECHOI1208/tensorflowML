{
 "cells": [
  {
   "cell_type": "code",
   "execution_count": 112,
   "metadata": {},
   "outputs": [
    {
     "name": "stdout",
     "output_type": "stream",
     "text": [
      "INFO:tensorflow:Using config: {'_save_checkpoints_secs': 180, '_num_ps_replicas': 0, '_keep_checkpoint_max': 5, '_task_type': None, '_is_chief': True, '_cluster_spec': <tensorflow.python.training.server_lib.ClusterSpec object at 0x11b699a50>, '_model_dir': '/tmp/trained_model', '_save_checkpoints_steps': None, '_keep_checkpoint_every_n_hours': 10000, '_session_config': None, '_tf_random_seed': None, '_save_summary_steps': 100, '_environment': 'local', '_num_worker_replicas': 0, '_task_id': 0, '_log_step_count_steps': 100, '_tf_config': gpu_options {\n",
      "  per_process_gpu_memory_fraction: 1\n",
      "}\n",
      ", '_evaluation_master': '', '_master': ''}\n",
      "WARNING:tensorflow:From /Users/terrycho/anaconda/envs/tensorflow1.0/lib/python2.7/site-packages/tensorflow/contrib/learn/python/learn/monitors.py:269: __init__ (from tensorflow.contrib.learn.python.learn.monitors) is deprecated and will be removed after 2016-12-05.\n",
      "Instructions for updating:\n",
      "Monitors are deprecated. Please use tf.train.SessionRunHook.\n",
      "INFO:tensorflow:Create CheckpointSaverHook.\n",
      "INFO:tensorflow:Saving checkpoints for 1 into /tmp/trained_model/model.ckpt.\n",
      "INFO:tensorflow:Starting evaluation at 2017-09-18-14:05:11\n",
      "INFO:tensorflow:Restoring parameters from /tmp/trained_model/model.ckpt-1\n",
      "INFO:tensorflow:Evaluation [1/1]\n",
      "INFO:tensorflow:Finished evaluation at 2017-09-18-14:05:12\n",
      "INFO:tensorflow:Saving dict for global step 1: global_step = 1, loss = 18032.5\n",
      "INFO:tensorflow:Validation (step 1): loss = 18032.5, global_step = 1\n",
      "INFO:tensorflow:loss = 18148.5, step = 1\n",
      "INFO:tensorflow:global_step/sec: 48.5399\n",
      "INFO:tensorflow:loss = 4203.0, step = 101 (1.437 sec)\n",
      "INFO:tensorflow:global_step/sec: 56.2799\n",
      "INFO:tensorflow:loss = 3350.01, step = 201 (1.776 sec)\n",
      "INFO:tensorflow:global_step/sec: 60.7791\n",
      "INFO:tensorflow:loss = 2867.03, step = 301 (1.646 sec)\n",
      "INFO:tensorflow:global_step/sec: 59.3626\n",
      "INFO:tensorflow:loss = 2216.58, step = 401 (1.684 sec)\n",
      "INFO:tensorflow:global_step/sec: 60.8585\n",
      "INFO:tensorflow:loss = 2024.03, step = 501 (1.643 sec)\n",
      "INFO:tensorflow:global_step/sec: 61.8341\n",
      "INFO:tensorflow:loss = 1775.33, step = 601 (1.617 sec)\n",
      "INFO:tensorflow:global_step/sec: 60.8064\n",
      "INFO:tensorflow:loss = 1699.49, step = 701 (1.645 sec)\n",
      "INFO:tensorflow:global_step/sec: 49.7208\n",
      "INFO:tensorflow:loss = 1716.02, step = 801 (2.011 sec)\n",
      "INFO:tensorflow:global_step/sec: 50.2966\n",
      "INFO:tensorflow:loss = 1749.55, step = 901 (1.988 sec)\n",
      "INFO:tensorflow:global_step/sec: 49.369\n",
      "INFO:tensorflow:loss = 1490.49, step = 1001 (2.026 sec)\n",
      "INFO:tensorflow:global_step/sec: 51.7635\n",
      "INFO:tensorflow:loss = 1436.66, step = 1101 (1.932 sec)\n",
      "INFO:tensorflow:global_step/sec: 51.8399\n",
      "INFO:tensorflow:loss = 1299.18, step = 1201 (1.930 sec)\n",
      "INFO:tensorflow:global_step/sec: 50.1662\n",
      "INFO:tensorflow:loss = 1379.57, step = 1301 (1.993 sec)\n",
      "INFO:tensorflow:global_step/sec: 51.646\n",
      "INFO:tensorflow:loss = 1357.66, step = 1401 (1.936 sec)\n",
      "INFO:tensorflow:global_step/sec: 50.9533\n",
      "INFO:tensorflow:loss = 1417.64, step = 1501 (1.963 sec)\n",
      "INFO:tensorflow:global_step/sec: 58.166\n",
      "INFO:tensorflow:loss = 1314.05, step = 1601 (1.719 sec)\n",
      "INFO:tensorflow:global_step/sec: 54.5911\n",
      "INFO:tensorflow:loss = 1219.27, step = 1701 (1.831 sec)\n",
      "INFO:tensorflow:global_step/sec: 53.3512\n",
      "INFO:tensorflow:loss = 1158.1, step = 1801 (1.875 sec)\n",
      "INFO:tensorflow:global_step/sec: 46.5598\n",
      "INFO:tensorflow:loss = 1162.66, step = 1901 (2.149 sec)\n",
      "INFO:tensorflow:Saving checkpoints for 2000 into /tmp/trained_model/model.ckpt.\n",
      "INFO:tensorflow:Loss for final step: 1453.75.\n",
      "INFO:tensorflow:Starting evaluation at 2017-09-18-14:05:50\n",
      "INFO:tensorflow:Restoring parameters from /tmp/trained_model/model.ckpt-2000\n",
      "INFO:tensorflow:Evaluation [1/1]\n",
      "INFO:tensorflow:Finished evaluation at 2017-09-18-14:05:50\n",
      "INFO:tensorflow:Saving dict for global step 2000: global_step = 2000, loss = 1217.37\n",
      "INFO:tensorflow:Restoring parameters from /tmp/trained_model/model.ckpt-2000\n",
      "INFO:tensorflow:Assets added to graph.\n",
      "INFO:tensorflow:No assets to write.\n",
      "INFO:tensorflow:SavedModel written to: /tmp/trained_model/export/Servo/1505743550/saved_model.pb\n"
     ]
    },
    {
     "data": {
      "text/plain": [
       "({'global_step': 2000, 'loss': 1217.3665},\n",
       " ['/tmp/trained_model/export/Servo/1505743550'])"
      ]
     },
     "execution_count": 112,
     "metadata": {},
     "output_type": "execute_result"
    }
   ],
   "source": [
    "#original code https://github.com/enakai00/autoencoder_example\n",
    "\n",
    "import tensorflow as tf\n",
    "import os,shutil\n",
    "import matplotlib.pyplot as plt\n",
    "import numpy as np\n",
    "from tensorflow.python.estimator.model_fn import ModeKeys as Modes\n",
    "from tensorflow.contrib.learn import Experiment\n",
    "from tensorflow.contrib.learn.python.learn import learn_runner\n",
    "from tensorflow.contrib.learn.python.learn.utils import (saved_model_export_utils)\n",
    "\n",
    "tf.logging.set_verbosity(tf.logging.INFO)\n",
    "\n",
    "OUTDIR='/tmp/trained_model'\n",
    "\n",
    "#\n",
    "# definining queue\n",
    "#\n",
    "def read_and_decode(filename_queue):\n",
    "    reader = tf.TFRecordReader()\n",
    "    _,serialized_example = reader.read(filename_queue)\n",
    "    \n",
    "    features = tf.parse_single_example(\n",
    "        serialized_example,\n",
    "        features={\n",
    "            'image_raw':tf.FixedLenFeature([],tf.string),\n",
    "            'label':tf.FixedLenFeature([],tf.int64),\n",
    "        })\n",
    "    \n",
    "    image = tf.decode_raw(features['image_raw'],tf.uint8)\n",
    "    image.set_shape([784]) #image shape is (784,)\n",
    "    image = tf.cast(image,tf.float32)*(1.0/255)\n",
    "    label = tf.cast(features['label'],tf.int32)\n",
    "    \n",
    "    return image,label\n",
    "\n",
    "def input_fn(filename,batch_size=100):\n",
    "    filename_queue = tf.train.string_input_producer([filename])\n",
    "    \n",
    "    image,label = read_and_decode(filename_queue)\n",
    "    images,labels = tf.train.batch(\n",
    "        [image,label],batch_size=batch_size,\n",
    "        capacity=1000+3*batch_size)\n",
    "    #images : (100,784), labels : (100,1)\n",
    "    \n",
    "    return {'inputs':images},labels\n",
    "\n",
    "def get_input_fn(filename,batch_size=100):\n",
    "    return lambda: input_fn(filename,batch_size)\n",
    "\n",
    "def serving_input_fn():\n",
    "    inputs = {'inputs':tf.placeholder(tf.float32,[None,784])}\n",
    "    return tf.estimator.export.ServingInputReceiver(inputs,inputs)\n",
    "\n",
    "#\n",
    "# define model\n",
    "#\n",
    "def autoencoder_model_fn(features,labels,mode):\n",
    "    input_layer = features['inputs']\n",
    "    dense1 = tf.layers.dense(inputs=input_layer,units=256,activation=tf.nn.relu)\n",
    "    dense2 = tf.layers.dense(inputs=dense1,units=128,activation=tf.nn.relu)\n",
    "    dense3 = tf.layers.dense(inputs=dense2,units=16,activation=tf.nn.relu)\n",
    "    dense4 = tf.layers.dense(inputs=dense3,units=128,activation=tf.nn.relu)\n",
    "    dense5 = tf.layers.dense(inputs=dense4,units=256,activation=tf.nn.relu)\n",
    "    output_layer = tf.layers.dense(inputs=dense5,units=784,activation=tf.nn.sigmoid)\n",
    "    \n",
    "    #training and evaluation mode\n",
    "    if mode in (Modes.TRAIN,Modes.EVAL):\n",
    "        global_step = tf.contrib.framework.get_or_create_global_step()\n",
    "        label_indices = tf.cast(labels,tf.int32)\n",
    "        loss = tf.reduce_sum(tf.square(output_layer - input_layer))\n",
    "        tf.summary.scalar('OptimizeLoss',loss)\n",
    "\n",
    "        if mode == Modes.TRAIN:\n",
    "            optimizer = tf.train.AdamOptimizer(learning_rate=0.001)\n",
    "            train_op = optimizer.minimize(loss,global_step=global_step)\n",
    "            return tf.estimator.EstimatorSpec(mode,loss = loss, train_op = train_op)\n",
    "        if mode == Modes.EVAL:\n",
    "            eval_metric_ops = None\n",
    "            return tf.estimator.EstimatorSpec(\n",
    "                mode,loss=loss,eval_metric_ops = eval_metric_ops)\n",
    "        \n",
    "    # prediction mode\n",
    "    if mode == Modes.PREDICT:\n",
    "        predictions={\n",
    "            'outputs':output_layer\n",
    "        }\n",
    "        export_outputs={\n",
    "            'outputs':tf.estimator.export.PredictOutput(predictions)\n",
    "        }\n",
    "        return tf.estimator.EstimatorSpec(\n",
    "            mode,predictions=predictions,export_outputs=export_outputs) #이부분 코드 상세 조사할것\n",
    "    \n",
    "\n",
    "def build_estimator(model_dir):\n",
    "    return tf.estimator.Estimator(\n",
    "        model_fn = autoencoder_model_fn,\n",
    "        model_dir = model_dir,\n",
    "        config=tf.contrib.learn.RunConfig(save_checkpoints_secs=180))\n",
    "\n",
    "def generate_experiment_fn(data_dir,\n",
    "                          train_batch_size = 100,\n",
    "                          eval_batch_size = 100,\n",
    "                          train_steps = 1000,\n",
    "                          eval_steps = 1,\n",
    "                          **experiment_args):\n",
    "    def _experiment_fn(output_dir):\n",
    "        return Experiment(\n",
    "            build_estimator(output_dir),\n",
    "            train_input_fn=get_input_fn('./data/train.tfrecords',batch_size=train_batch_size),\n",
    "            eval_input_fn=get_input_fn('./data/test.tfrecords',batch_size=eval_batch_size),\n",
    "            export_strategies = [saved_model_export_utils.make_export_strategy(\n",
    "                serving_input_fn,\n",
    "                default_output_alternative_key=None,\n",
    "                exports_to_keep=1)\n",
    "            ],\n",
    "            train_steps = train_steps,\n",
    "            eval_steps = eval_steps,\n",
    "            **experiment_args\n",
    "        )\n",
    "    return _experiment_fn\n",
    "\n",
    "shutil.rmtree(OUTDIR, ignore_errors=True) # start fresh each time\n",
    "learn_runner.run(\n",
    "    generate_experiment_fn(\n",
    "        data_dir='./data/',\n",
    "        train_steps=2000),\n",
    "    OUTDIR)\n",
    "    "
   ]
  },
  {
   "cell_type": "markdown",
   "metadata": {},
   "source": [
    "# Load exported model"
   ]
  },
  {
   "cell_type": "code",
   "execution_count": 68,
   "metadata": {},
   "outputs": [
    {
     "name": "stdout",
     "output_type": "stream",
     "text": [
      "/tmp/trained_model/export/Servo/1505647217\n",
      "INFO:tensorflow:Restoring parameters from /tmp/trained_model/export/Servo/1505647217/variables/variables\n",
      "[u'inputs']\n",
      "[u'outputs']\n"
     ]
    }
   ],
   "source": [
    "#reset graph\n",
    "tf.reset_default_graph()\n",
    "\n",
    "export_dir = OUTDIR+'/export/Servo/'\n",
    "timestamp = os.listdir(export_dir)[0]\n",
    "export_dir = export_dir + timestamp\n",
    "print(export_dir)\n",
    "\n",
    "sess = tf.Session()\n",
    "meta_graph = tf.saved_model.loader.load(sess,[tf.saved_model.tag_constants.SERVING],export_dir)\n",
    "model_signature = meta_graph.signature_def['serving_default']\n",
    "input_signature = model_signature.inputs\n",
    "output_signature = model_signature.outputs\n",
    "\n",
    "print(input_signature.keys())\n",
    "print(output_signature.keys())\n"
   ]
  },
  {
   "cell_type": "code",
   "execution_count": 69,
   "metadata": {},
   "outputs": [
    {
     "name": "stdout",
     "output_type": "stream",
     "text": [
      "/tmp/trained_model/export/Servo/1505647217\n"
     ]
    }
   ],
   "source": [
    "\n",
    "export_dir = '{}/export/Servo/{}'.format(\n",
    "    OUTDIR, os.listdir('{}/export/Servo'.format(OUTDIR))[0]\n",
    ")\n",
    "\n",
    "print(export_dir)"
   ]
  },
  {
   "cell_type": "markdown",
   "metadata": {},
   "source": [
    "# Prediction test"
   ]
  },
  {
   "cell_type": "code",
   "execution_count": 70,
   "metadata": {},
   "outputs": [
    {
     "name": "stdout",
     "output_type": "stream",
     "text": [
      "Extracting /tmp/data/train-images-idx3-ubyte.gz\n",
      "Extracting /tmp/data/train-labels-idx1-ubyte.gz\n",
      "Extracting /tmp/data/t10k-images-idx3-ubyte.gz\n",
      "Extracting /tmp/data/t10k-labels-idx1-ubyte.gz\n"
     ]
    },
    {
     "data": {
      "image/png": "[encoded data removed]",
      "text/plain": [
       "<matplotlib.figure.Figure at 0x11b2ecc50>"
      ]
     },
     "metadata": {},
     "output_type": "display_data"
    }
   ],
   "source": [
    "from tensorflow.examples.tutorials.mnist import input_data\n",
    "\n",
    "mnist = input_data.read_data_sets(\"/tmp/data/\", one_hot=True)\n",
    "images, labels = mnist.test.images, mnist.test.labels\n",
    "\n",
    "feed_dict = {sess.graph.get_tensor_by_name(input_signature['inputs'].name): mnist.test.images[:10]}\n",
    "output = sess.graph.get_tensor_by_name(output_signature['outputs'].name)\n",
    "results = sess.run(output, feed_dict=feed_dict)\n",
    "\n",
    "fig = plt.figure(figsize=(4,15))\n",
    "for i in range(10):\n",
    "        subplot = fig.add_subplot(10,2,i*2+1)\n",
    "        subplot.set_xticks([])\n",
    "        subplot.set_yticks([])\n",
    "        subplot.imshow(images[i].reshape((28,28)), vmin=0, vmax=1,\n",
    "                       cmap=plt.cm.gray_r, interpolation=\"nearest\")\n",
    "        \n",
    "        subplot = fig.add_subplot(10,2,i*2+2)\n",
    "        subplot.set_xticks([])\n",
    "        subplot.set_yticks([])\n",
    "        subplot.imshow(results[i].reshape((28,28)), vmin=0, vmax=1,\n",
    "                       cmap=plt.cm.gray_r, interpolation=\"nearest\")\n",
    "\n",
    "plt.show()"
   ]
  },
  {
   "cell_type": "markdown",
   "metadata": {},
   "source": [
    "# HTML based prediction tool"
   ]
  },
  {
   "cell_type": "code",
   "execution_count": 71,
   "metadata": {
    "collapsed": true
   },
   "outputs": [],
   "source": [
    "input_form = \"\"\"\n",
    "<table>\n",
    "<td style=\"border-style: none;\">\n",
    "<div style=\"border: solid 2px #666; width: 143px; height: 144px;\">\n",
    "<canvas width=\"140\" height=\"140\"></canvas>\n",
    "</div></td>\n",
    "<td style=\"border-style: none;\">\n",
    "<button onclick=\"clear_value()\">Clear</button>\n",
    "</td>\n",
    "</table>\n",
    "\"\"\"\n",
    "\n",
    "javascript = \"\"\"\n",
    "<script type=\"text/Javascript\">\n",
    "    var pixels = [];\n",
    "    for (var i = 0; i < 28*28; i++) pixels[i] = 0\n",
    "    var click = 0;\n",
    "\n",
    "    var canvas = document.querySelector(\"canvas\");\n",
    "    canvas.addEventListener(\"mousemove\", function(e){\n",
    "        if (e.buttons == 1) {\n",
    "            click = 1;\n",
    "            canvas.getContext(\"2d\").fillStyle = \"rgb(0,0,0)\";\n",
    "            canvas.getContext(\"2d\").fillRect(e.offsetX, e.offsetY, 8, 8);\n",
    "            x = Math.floor(e.offsetY * 0.2)\n",
    "            y = Math.floor(e.offsetX * 0.2) + 1\n",
    "            for (var dy = 0; dy < 2; dy++){\n",
    "                for (var dx = 0; dx < 2; dx++){\n",
    "                    if ((x + dx < 28) && (y + dy < 28)){\n",
    "                        pixels[(y+dy)+(x+dx)*28] = 1\n",
    "                    }\n",
    "                }\n",
    "            }\n",
    "        } else {\n",
    "            if (click == 1) set_value()\n",
    "            click = 0;\n",
    "        }\n",
    "    });\n",
    "    \n",
    "    function set_value(){\n",
    "        var result = \"\"\n",
    "        for (var i = 0; i < 28*28; i++) result += pixels[i] + \",\"\n",
    "        var kernel = IPython.notebook.kernel;\n",
    "        kernel.execute(\"image = [\" + result + \"]\");\n",
    "    }\n",
    "    \n",
    "    function clear_value(){\n",
    "        canvas.getContext(\"2d\").fillStyle = \"rgb(255,255,255)\";\n",
    "        canvas.getContext(\"2d\").fillRect(0, 0, 140, 140);\n",
    "        for (var i = 0; i < 28*28; i++) pixels[i] = 0\n",
    "    }\n",
    "</script>\n",
    "\"\"\""
   ]
  },
  {
   "cell_type": "code",
   "execution_count": 93,
   "metadata": {},
   "outputs": [
    {
     "data": {
      "text/html": [
       "\n",
       "<table>\n",
       "<td style=\"border-style: none;\">\n",
       "<div style=\"border: solid 2px #666; width: 143px; height: 144px;\">\n",
       "<canvas width=\"140\" height=\"140\"></canvas>\n",
       "</div></td>\n",
       "<td style=\"border-style: none;\">\n",
       "<button onclick=\"clear_value()\">Clear</button>\n",
       "</td>\n",
       "</table>\n",
       "\n",
       "<script type=\"text/Javascript\">\n",
       "    var pixels = [];\n",
       "    for (var i = 0; i < 28*28; i++) pixels[i] = 0\n",
       "    var click = 0;\n",
       "\n",
       "    var canvas = document.querySelector(\"canvas\");\n",
       "    canvas.addEventListener(\"mousemove\", function(e){\n",
       "        if (e.buttons == 1) {\n",
       "            click = 1;\n",
       "            canvas.getContext(\"2d\").fillStyle = \"rgb(0,0,0)\";\n",
       "            canvas.getContext(\"2d\").fillRect(e.offsetX, e.offsetY, 8, 8);\n",
       "            x = Math.floor(e.offsetY * 0.2)\n",
       "            y = Math.floor(e.offsetX * 0.2) + 1\n",
       "            for (var dy = 0; dy < 2; dy++){\n",
       "                for (var dx = 0; dx < 2; dx++){\n",
       "                    if ((x + dx < 28) && (y + dy < 28)){\n",
       "                        pixels[(y+dy)+(x+dx)*28] = 1\n",
       "                    }\n",
       "                }\n",
       "            }\n",
       "        } else {\n",
       "            if (click == 1) set_value()\n",
       "            click = 0;\n",
       "        }\n",
       "    });\n",
       "    \n",
       "    function set_value(){\n",
       "        var result = \"\"\n",
       "        for (var i = 0; i < 28*28; i++) result += pixels[i] + \",\"\n",
       "        var kernel = IPython.notebook.kernel;\n",
       "        kernel.execute(\"image = [\" + result + \"]\");\n",
       "    }\n",
       "    \n",
       "    function clear_value(){\n",
       "        canvas.getContext(\"2d\").fillStyle = \"rgb(255,255,255)\";\n",
       "        canvas.getContext(\"2d\").fillRect(0, 0, 140, 140);\n",
       "        for (var i = 0; i < 28*28; i++) pixels[i] = 0\n",
       "    }\n",
       "</script>\n"
      ],
      "text/plain": [
       "<IPython.core.display.HTML object>"
      ]
     },
     "execution_count": 93,
     "metadata": {},
     "output_type": "execute_result"
    }
   ],
   "source": [
    "from IPython.display import HTML\n",
    "HTML(input_form + javascript)"
   ]
  },
  {
   "cell_type": "code",
   "execution_count": 110,
   "metadata": {},
   "outputs": [
    {
     "data": {
      "image/png": "[encoded data removed]",
      "text/plain": [
       "<matplotlib.figure.Figure at 0x11df51d90>"
      ]
     },
     "metadata": {},
     "output_type": "display_data"
    },
    {
     "name": "stdout",
     "output_type": "stream",
     "text": [
      "Differnce :133.149799809\n"
     ]
    }
   ],
   "source": [
    "feed_dict = {sess.graph.get_tensor_by_name(input_signature['inputs'].name):[image]}\n",
    "output = sess.graph.get_tensor_by_name(output_signature['outputs'].name)\n",
    "results = sess.run(output, feed_dict=feed_dict)\n",
    "\n",
    "fig = plt.figure(figsize=(6,3))\n",
    "\n",
    "subplot = fig.add_subplot(1,2,1)\n",
    "subplot.set_xticks([])\n",
    "subplot.set_yticks([])\n",
    "subplot.imshow(np.array(image).reshape((28,28)), vmin=0, vmax=1,\n",
    "                       cmap=plt.cm.gray_r, interpolation=\"nearest\")\n",
    "        \n",
    "subplot = fig.add_subplot(1,2,2)\n",
    "subplot.set_xticks([])\n",
    "subplot.set_yticks([])\n",
    "subplot.imshow(results[0].reshape((28,28)), vmin=0, vmax=1,\n",
    "                       cmap=plt.cm.gray_r, interpolation=\"nearest\")\n",
    "\n",
    "plt.show()\n",
    "\n",
    "loss = tf.reduce_sum(tf.square(results[0] - image))\n",
    "loss_val = sess.run(loss)\n",
    "print(\"Differnce :\"+str(loss_val))"
   ]
  },
  {
   "cell_type": "code",
   "execution_count": null,
   "metadata": {
    "collapsed": true
   },
   "outputs": [],
   "source": []
  },
  {
   "cell_type": "code",
   "execution_count": null,
   "metadata": {
    "collapsed": true
   },
   "outputs": [],
   "source": []
  }
 ],
 "metadata": {
  "kernelspec": {
   "display_name": "Python 2",
   "language": "python",
   "name": "python2"
  },
  "language_info": {
   "codemirror_mode": {
    "name": "ipython",
    "version": 2
   },
   "file_extension": ".py",
   "mimetype": "text/x-python",
   "name": "python",
   "nbconvert_exporter": "python",
   "pygments_lexer": "ipython2",
   "version": "2.7.13"
  }
 },
 "nbformat": 4,
 "nbformat_minor": 2
}
