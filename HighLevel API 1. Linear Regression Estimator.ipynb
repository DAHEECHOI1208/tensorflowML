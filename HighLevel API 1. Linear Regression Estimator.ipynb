{
 "cells": [
  {
   "cell_type": "code",
   "execution_count": 52,
   "metadata": {
    "collapsed": true
   },
   "outputs": [],
   "source": [
    "import numpy as np\n",
    "num_points = 300\n",
    "vectors_set = []\n",
    "for i in xrange(num_points):\n",
    "  x = np.random.normal(5,5)+15\n",
    "  #y = np.random.normal(5,5)+15\n",
    "  y =  x*2+ (np.random.normal(0,3))*2\n",
    "  vectors_set.append([x,y])\n",
    "  \n",
    "x_data = [v[0] for v in vectors_set ]\n",
    "y_data = [v[1] for v in vectors_set ]"
   ]
  },
  {
   "cell_type": "code",
   "execution_count": 53,
   "metadata": {},
   "outputs": [
    {
     "data": {
      "image/png": "[encoded data removed]",
      "text/plain": [
       "<matplotlib.figure.Figure at 0x12079b0d0>"
      ]
     },
     "metadata": {},
     "output_type": "display_data"
    }
   ],
   "source": [
    "\n",
    "import matplotlib.pyplot as plt\n",
    "plt.plot(x_data,y_data,'ro')\n",
    "plt.ylim([0,100])\n",
    "plt.xlim([5,35])\n",
    "plt.xlabel('x')\n",
    "plt.ylabel('y')\n",
    "plt.legend()\n",
    "plt.show()"
   ]
  },
  {
   "cell_type": "code",
   "execution_count": 54,
   "metadata": {},
   "outputs": [
    {
     "name": "stdout",
     "output_type": "stream",
     "text": [
      "INFO:tensorflow:Using default config.\n",
      "WARNING:tensorflow:Using temporary folder as model directory: /var/folders/nl/k74j52jd4bg8_h8gyhg15q_400bvyx/T/tmpVrC7Ps\n",
      "INFO:tensorflow:Using config: {'_save_checkpoints_secs': 600, '_session_config': None, '_keep_checkpoint_max': 5, '_tf_random_seed': 1, '_keep_checkpoint_every_n_hours': 10000, '_log_step_count_steps': 100, '_save_checkpoints_steps': None, '_model_dir': '/var/folders/nl/k74j52jd4bg8_h8gyhg15q_400bvyx/T/tmpVrC7Ps', '_save_summary_steps': 100}\n",
      "INFO:tensorflow:Create CheckpointSaverHook.\n",
      "INFO:tensorflow:Saving checkpoints for 1 into /var/folders/nl/k74j52jd4bg8_h8gyhg15q_400bvyx/T/tmpVrC7Ps/model.ckpt.\n",
      "INFO:tensorflow:loss = 87233.4, step = 1\n",
      "INFO:tensorflow:global_step/sec: 1051.78\n",
      "INFO:tensorflow:loss = 1406.96, step = 101 (0.096 sec)\n",
      "INFO:tensorflow:global_step/sec: 1110.32\n",
      "INFO:tensorflow:loss = 2117.69, step = 201 (0.090 sec)\n",
      "INFO:tensorflow:global_step/sec: 1044.67\n",
      "INFO:tensorflow:loss = 1535.34, step = 301 (0.096 sec)\n",
      "INFO:tensorflow:global_step/sec: 1044.06\n",
      "INFO:tensorflow:loss = 1327.8, step = 401 (0.096 sec)\n",
      "INFO:tensorflow:global_step/sec: 1112.23\n",
      "INFO:tensorflow:loss = 1168.27, step = 501 (0.090 sec)\n",
      "INFO:tensorflow:global_step/sec: 1090.7\n",
      "INFO:tensorflow:loss = 1535.01, step = 601 (0.092 sec)\n",
      "INFO:tensorflow:global_step/sec: 1133.57\n",
      "INFO:tensorflow:loss = 1587.73, step = 701 (0.088 sec)\n",
      "INFO:tensorflow:global_step/sec: 1120.14\n",
      "INFO:tensorflow:loss = 1146.72, step = 801 (0.090 sec)\n",
      "INFO:tensorflow:global_step/sec: 1088.41\n",
      "INFO:tensorflow:loss = 1681.43, step = 901 (0.092 sec)\n",
      "INFO:tensorflow:Saving checkpoints for 1000 into /var/folders/nl/k74j52jd4bg8_h8gyhg15q_400bvyx/T/tmpVrC7Ps/model.ckpt.\n",
      "INFO:tensorflow:Loss for final step: 1321.95.\n",
      "INFO:tensorflow:Starting evaluation at 2017-09-04-14:02:44\n",
      "INFO:tensorflow:Restoring parameters from /var/folders/nl/k74j52jd4bg8_h8gyhg15q_400bvyx/T/tmpVrC7Ps/model.ckpt-1000\n",
      "INFO:tensorflow:Evaluation [1/10]\n",
      "INFO:tensorflow:Evaluation [2/10]\n",
      "INFO:tensorflow:Evaluation [3/10]\n",
      "INFO:tensorflow:Evaluation [4/10]\n",
      "INFO:tensorflow:Evaluation [5/10]\n",
      "INFO:tensorflow:Evaluation [6/10]\n",
      "INFO:tensorflow:Evaluation [7/10]\n",
      "INFO:tensorflow:Evaluation [8/10]\n",
      "INFO:tensorflow:Evaluation [9/10]\n",
      "INFO:tensorflow:Evaluation [10/10]\n",
      "INFO:tensorflow:Finished evaluation at 2017-09-04-14:02:45\n",
      "INFO:tensorflow:Saving dict for global step 1000: average_loss = 35.3079, global_step = 1000, loss = 1765.4\n",
      "INFO:tensorflow:Restoring parameters from /var/folders/nl/k74j52jd4bg8_h8gyhg15q_400bvyx/T/tmpVrC7Ps/model.ckpt-1000\n",
      "[{'predictions': array([ 30.87684631], dtype=float32)}, {'predictions': array([ 40.47500992], dtype=float32)}, {'predictions': array([ 50.07317734], dtype=float32)}, {'predictions': array([ 59.67134094], dtype=float32)}]\n"
     ]
    }
   ],
   "source": [
    "import numpy as np\n",
    "import tensorflow as tf\n",
    "\n",
    "input_fn_train = tf.estimator.inputs.numpy_input_fn(\n",
    "    x = {\"x\":np.array(x_data[:200],dtype=np.float32)},\n",
    "    y = np.array(y_data[:200],dtype=np.float32),\n",
    "    num_epochs=100000,\n",
    "    batch_size=50,\n",
    "    shuffle=True\n",
    ")\n",
    "\n",
    "input_fn_eval = tf.estimator.inputs.numpy_input_fn(\n",
    "    x = {\"x\":np.array(x_data[200:300],dtype=np.float32)},\n",
    "    y = np.array(y_data[200:300],dtype=np.float32),\n",
    "    num_epochs=100000,\n",
    "    batch_size=50,\n",
    "    shuffle=True\n",
    ")\n",
    "\n",
    "input_fn_predict = tf.estimator.inputs.numpy_input_fn(\n",
    "    x = {\"x\":np.array([15,20,25,30],dtype=np.float32)},\n",
    "    num_epochs=1,\n",
    "    shuffle=False\n",
    ")\n",
    "column_x = tf.feature_column.numeric_column(\"x\",dtype=tf.float32)\n",
    "columns = [column_x]\n",
    "\n",
    "tf.logging.set_verbosity(tf.logging.INFO)\n",
    "\n",
    "model_params = {\"learning_rate\": 0.001}\n",
    "estimator = tf.estimator.LinearRegressor(feature_columns=columns,optimizer=\"Adam\")\n",
    "estimator.train(input_fn = input_fn_train,steps=1000)\n",
    "'''\n",
    "estimator = tf.contrib.learn.DNNLinearCombinedRegressor(\n",
    "    linear_feature_columns=columns,\n",
    "    dnn_feature_columns=[],\n",
    "    dnn_hidden_units=[100, 50])\n",
    "estimator.fit(input_fn = input_fn_train,steps=1000)\n",
    "'''\n",
    "\n",
    "estimator.evaluate(input_fn = input_fn_eval,steps=10)\n",
    "result = list(estimator.predict(input_fn = input_fn_predict))\n",
    "\n",
    "print (result)"
   ]
  },
  {
   "cell_type": "code",
   "execution_count": null,
   "metadata": {
    "collapsed": true
   },
   "outputs": [],
   "source": []
  }
 ],
 "metadata": {
  "kernelspec": {
   "display_name": "Python 2",
   "language": "python",
   "name": "python2"
  },
  "language_info": {
   "codemirror_mode": {
    "name": "ipython",
    "version": 2
   },
   "file_extension": ".py",
   "mimetype": "text/x-python",
   "name": "python",
   "nbconvert_exporter": "python",
   "pygments_lexer": "ipython2",
   "version": "2.7.13"
  }
 },
 "nbformat": 4,
 "nbformat_minor": 2
}
