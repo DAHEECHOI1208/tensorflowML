{
 "cells": [
  {
   "cell_type": "code",
   "execution_count": 1,
   "metadata": {},
   "outputs": [
    {
     "data": {
      "text/plain": [
       "'1.3.0'"
      ]
     },
     "execution_count": 1,
     "metadata": {},
     "output_type": "execute_result"
    }
   ],
   "source": [
    "#example https://www.tensorflow.org/programmers_guide/datasets\n",
    "\n",
    "import tensorflow as tf\n",
    "\n",
    "tf.__version__"
   ]
  },
  {
   "cell_type": "code",
   "execution_count": 21,
   "metadata": {},
   "outputs": [
    {
     "name": "stdout",
     "output_type": "stream",
     "text": [
      "0\n",
      "1\n",
      "2\n",
      "3\n",
      "4\n"
     ]
    }
   ],
   "source": [
    "\n",
    "# This is not good example. Let's use initializer and next\n",
    "dataset = tf.contrib.data.Dataset.range(5)\n",
    "iterator = dataset.make_initializable_iterator()\n",
    "next_element = iterator.get_next()\n",
    "\n",
    "sess = tf.Session()\n",
    "sess.run(iterator.initializer)\n",
    "for i in range(5):\n",
    "    value = sess.run(next_element)\n",
    "    print value"
   ]
  },
  {
   "cell_type": "code",
   "execution_count": 8,
   "metadata": {},
   "outputs": [
    {
     "name": "stdout",
     "output_type": "stream",
     "text": [
      "[[ 0.0668298   0.01302457  0.25095773  0.61186528  0.20378602  0.18771183\n",
      "   0.42716563  0.59549415  0.12740099  0.76829207]\n",
      " [ 0.34989655  0.64744794  0.97155905  0.03172243  0.9443239   0.32172251\n",
      "   0.65719259  0.58384681  0.67177832  0.9192605 ]\n",
      " [ 0.11828971  0.02764559  0.41666663  0.82511187  0.77742863  0.72887552\n",
      "   0.27443349  0.2234633   0.1073364   0.77505243]\n",
      " [ 0.83146358  0.4332304   0.52461135  0.28970146  0.9271673   0.37942171\n",
      "   0.87847924  0.82137156  0.73209143  0.35840178]]\n"
     ]
    }
   ],
   "source": [
    "# create 4x10 matrix by random \n",
    "r = tf.random_uniform([4, 10])\n",
    "v = sess.run(r)\n",
    "print v"
   ]
  },
  {
   "cell_type": "code",
   "execution_count": 13,
   "metadata": {},
   "outputs": [
    {
     "name": "stdout",
     "output_type": "stream",
     "text": [
      "[ 0.17100978  0.82778955  0.85201597  0.83441651  0.21491337  0.11913347\n",
      "  0.23976457  0.6612699   0.01218486  0.225173  ]\n"
     ]
    }
   ],
   "source": [
    "dataset1 = tf.contrib.data.Dataset.from_tensor_slices(tf.random_uniform([4, 10]))\n",
    "iterator = dataset1.make_initializable_iterator()\n",
    "next_element = iterator.get_next()\n",
    "\n",
    "sess = tf.Session()\n",
    "sess.run(iterator.initializer)\n",
    "value = sess.run(next_element)\n",
    "print value\n"
   ]
  },
  {
   "cell_type": "code",
   "execution_count": 25,
   "metadata": {},
   "outputs": [
    {
     "name": "stdout",
     "output_type": "stream",
     "text": [
      "-6\n",
      "-5\n",
      "8\n",
      "3\n",
      "-6\n"
     ]
    }
   ],
   "source": [
    "training_dataset = tf.contrib.data.Dataset.range(100).map(\n",
    "    lambda x: x + tf.random_uniform([], -10, 10, tf.int64))\n",
    "\n",
    "iterator = training_dataset.make_initializable_iterator()\n",
    "next_element = iterator.get_next()\n",
    "\n",
    "sess = tf.Session()\n",
    "sess.run(iterator.initializer)\n",
    "for i in range(5):\n",
    "    value = sess.run(next_element)\n",
    "    print value\n"
   ]
  },
  {
   "cell_type": "code",
   "execution_count": null,
   "metadata": {
    "collapsed": true
   },
   "outputs": [],
   "source": []
  }
 ],
 "metadata": {
  "kernelspec": {
   "display_name": "Python 2",
   "language": "python",
   "name": "python2"
  },
  "language_info": {
   "codemirror_mode": {
    "name": "ipython",
    "version": 2
   },
   "file_extension": ".py",
   "mimetype": "text/x-python",
   "name": "python",
   "nbconvert_exporter": "python",
   "pygments_lexer": "ipython2",
   "version": "2.7.13"
  }
 },
 "nbformat": 4,
 "nbformat_minor": 2
}
