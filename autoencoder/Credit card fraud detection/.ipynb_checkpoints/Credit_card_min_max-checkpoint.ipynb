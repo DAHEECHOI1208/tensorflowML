{
 "cells": [
  {
   "cell_type": "code",
   "execution_count": 35,
   "metadata": {},
   "outputs": [],
   "source": [
    "import csv\n",
    "import sys\n",
    "\n",
    "CSV_FILE = './creditcard.csv'\n",
    "SUMMARY_FILE='./creditcard_summary.csv'\n",
    "NUM_OF_COL = 28\n",
    "rnum=0\n",
    "cols_min = [0 for i in range(NUM_OF_COL)]\n",
    "cols_max = [0 for i in range(NUM_OF_COL)]\n",
    "class0 = 0\n",
    "class1 = 0\n",
    "f = open(CSV_FILE,'rb')\n",
    "reader = csv.reader(f)\n",
    "for r in reader:\n",
    "    if(rnum == 1) :\n",
    "        for i in xrange(NUM_OF_COL):\n",
    "            cols_min[i] = r[i+1]\n",
    "            cols_max[i] = r[i+1]\n",
    "    if(rnum>1):\n",
    "        if(int(r[30]) == 0):\n",
    "            class0 = class0+1\n",
    "        else:\n",
    "            class1 = class1+1\n",
    "        for i in xrange(NUM_OF_COL):\n",
    "            if(cols_min[i] > r[i+1]):\n",
    "                cols_min[i] = r[i+1]\n",
    "            if(cols_max[i] < r[i+1]):\n",
    "                cols_max[i] = r[i+1]        \n",
    "    \n",
    "    rnum = rnum + 1\n",
    "f.close()\n",
    "\n",
    "f = open(SUMMARY_FILE,'w')\n",
    "f.write(str(class0)+','+str(class1)+'\\n' ) # number of non-fraud record, fraud record\n",
    "for i in xrange(NUM_OF_COL):\n",
    "    f.write(str(i)+','+str(cols_min[i])+','+str(cols_max[i])+'\\n')\n",
    "f.close()"
   ]
  },
  {
   "cell_type": "code",
   "execution_count": 36,
   "metadata": {},
   "outputs": [
    {
     "name": "stdout",
     "output_type": "stream",
     "text": [
      "284314,492\r\n",
      "0,-0.000129313708001599,7.55406974741191e-05\r\n",
      "1,-0.000102967225611983,9.99769856171626\r\n",
      "2,-0.000108591275173469,9.67444968403876e-05\r\n",
      "3,-0.000119218261060649,9.92501936512661\r\n",
      "4,-0.000103665626784331,9.99846034625664e-05\r\n",
      "5,-0.000102349037610166,9.91116576052911\r\n",
      "6,-0.000105335816845036,9.97044721041161\r\n",
      "7,-0.000100656556173875,9.90825458583455\r\n",
      "8,-0.000101813099405837,9.96754672601408e-05\r\n",
      "9,-0.000105463432087845,9.990175905094\r\n",
      "10,-0.000108151559618117,9.93981974172569\r\n",
      "11,-0.000107087564246322,9.98580333033583e-05\r\n",
      "12,-0.0001012565441717,9.42995346153325e-05\r\n",
      "13,-0.00011026584350728,9.42849461347088e-05\r\n",
      "14,-0.000105449998001411,8.92751304924777e-05\r\n",
      "15,-0.000102187203562658,9.62125212195424e-05\r\n",
      "16,-0.00010491602545428,9.99380070915989e-05\r\n",
      "17,-0.000104860895688423,9.72652650759061e-06\r\n",
      "18,-0.000105908247778948,9.83848235865115e-06\r\n",
      "19,-0.000103215076017057,9.94641486230186\r\n",
      "20,-0.00010275802070302,9.97908705775956\r\n",
      "21,-0.000110875232229468,9.8395225212225e-05\r\n",
      "22,-0.000103055430624709,9.97423880847133\r\n",
      "23,-0.000104890420331654,9.98525037704461e-05\r\n",
      "24,-0.000105307353446642,9.7739127160934e-05\r\n",
      "25,-0.000114666560965097,9.53790653973052e-05\r\n",
      "26,-0.000100532478473814,9.94394238269967e-05\r\n",
      "27,-0.000100225733144749,9.9271564256982e-06\r\n"
     ]
    }
   ],
   "source": [
    "!cat credircard_sumarry.csv"
   ]
  },
  {
   "cell_type": "code",
   "execution_count": null,
   "metadata": {
    "collapsed": true
   },
   "outputs": [],
   "source": [
    "TRAINING_FILE=\"./credircard_training.csv\"\n",
    "TEST_FILE=\"./credircard_training.csv\"\n",
    "\n"
   ]
  }
 ],
 "metadata": {
  "kernelspec": {
   "display_name": "Python 2",
   "language": "python",
   "name": "python2"
  },
  "language_info": {
   "codemirror_mode": {
    "name": "ipython",
    "version": 2
   },
   "file_extension": ".py",
   "mimetype": "text/x-python",
   "name": "python",
   "nbconvert_exporter": "python",
   "pygments_lexer": "ipython2",
   "version": "2.7.13"
  }
 },
 "nbformat": 4,
 "nbformat_minor": 2
}
