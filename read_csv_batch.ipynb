{
 "cells": [
  {
   "cell_type": "code",
   "execution_count": 20,
   "metadata": {
    "collapsed": false,
    "deletable": true,
    "editable": true
   },
   "outputs": [
    {
     "name": "stdout",
     "output_type": "stream",
     "text": [
      "start session\n",
      "[ 1210 18730 27870 54820 30620 50070   600 37570 31990 55970]\n",
      "[ 8910 17490  4280 18450  7550  5070 54070  7850  2230 50520]\n",
      "[11940  7870 48920  6180  1830 42600  4010 15800  2010 49020]\n",
      "[ 6980 52950 33940 55650  9870 12700 15060 19960   310  3700]\n",
      "[ 8170 52470 17820 62640 16230  5160 19760 25760  7360 20800]\n",
      "[33390 27630 18330 18890 48440  7250  6520 33450  8270 18940]\n",
      "[ 5460 33080 37480  3210 15110 20670  6900 48510  9180 21700]\n",
      "[ 7470 22270  5690 29280 22550   400 29630 11340 22120 62490]\n",
      "[ 3990 10940 16740 20870  6050  9700 66230 74190 13590  7470]\n",
      "[66010  1620  4900  8290  1830  7080  4370 21880 25010 23500]\n",
      "stop batch\n"
     ]
    }
   ],
   "source": [
    "import tensorflow as tf\n",
    "import numpy as np\n",
    "import sys\n",
    "\n",
    "TRAINING_FILE = '/Users/terrycho/dev/data/flight.csv'\n",
    "\n",
    "## read training data and label\n",
    "def read_data(file_name):\n",
    "    try:\n",
    "        csv_file = tf.train.string_input_producer([file_name],name='filename_queue')\n",
    "        textReader = tf.TextLineReader()\n",
    "        _,line = textReader.read(csv_file)\n",
    "        year,flight,time = tf.decode_csv(line,record_defaults=[ [1900],[\"\"],[0] ],field_delim=',')    \n",
    "    except:\n",
    "        print \"Unexpected error:\",sys.exc_info()[0]\n",
    "        exit()\n",
    "    return year,flight,time\n",
    "\n",
    "def read_data_batch(file_name,batch_size=10):\n",
    "    year,flight,time = read_data(file_name)\n",
    "    batch_year,batch_flight,batch_time = tf.train.batch([year,flight,time],batch_size=batch_size)\n",
    "    \n",
    "    return  batch_year,batch_flight,batch_time\n",
    "\n",
    "def main():\n",
    "    \n",
    "    print 'start session'\n",
    "    #coornator 위에 코드가 있어야 한다\n",
    "    #데이타를 집어 넣기 전에 미리 그래프가 만들어져 있어야 함. \n",
    "    batch_year,batch_flight,batch_time = read_data_batch(TRAINING_FILE) \n",
    "    year = tf.placeholder(tf.int32,[None,])\n",
    "    flight = tf.placeholder(tf.string,[None,])\n",
    "    time = tf.placeholder(tf.int32,[None,])\n",
    "    \n",
    "    tt = time * 10\n",
    "\n",
    "    with tf.Session() as sess:\n",
    "        try:\n",
    "\n",
    "            coord = tf.train.Coordinator()\n",
    "            threads = tf.train.start_queue_runners(sess=sess, coord=coord)\n",
    "\n",
    "            for i in range(10):\n",
    "                y_,f_,t_ = sess.run([batch_year,batch_flight,batch_time])\n",
    "                #print(t_)\n",
    "                print sess.run(tt,feed_dict={time:t_})\n",
    "                #print time.eval()\n",
    "\n",
    "            print 'stop batch'\n",
    "            coord.request_stop()\n",
    "            coord.join(threads) \n",
    "        except:\n",
    "            print \"Unexpected error:\", sys.exc_info()[0]\n",
    "\n",
    "main()\n",
    "     "
   ]
  },
  {
   "cell_type": "code",
   "execution_count": null,
   "metadata": {
    "collapsed": true,
    "deletable": true,
    "editable": true
   },
   "outputs": [],
   "source": []
  },
  {
   "cell_type": "code",
   "execution_count": null,
   "metadata": {
    "collapsed": true,
    "deletable": true,
    "editable": true
   },
   "outputs": [],
   "source": []
  }
 ],
 "metadata": {
  "kernelspec": {
   "display_name": "Python 2",
   "language": "python",
   "name": "python2"
  },
  "language_info": {
   "codemirror_mode": {
    "name": "ipython",
    "version": 2
   },
   "file_extension": ".py",
   "mimetype": "text/x-python",
   "name": "python",
   "nbconvert_exporter": "python",
   "pygments_lexer": "ipython2",
   "version": "2.7.13"
  }
 },
 "nbformat": 4,
 "nbformat_minor": 2
}
